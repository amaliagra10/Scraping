{
 "cells": [
  {
   "cell_type": "markdown",
   "id": "71726823-2f9b-4dc0-9c8d-f82746c7bb73",
   "metadata": {},
   "source": [
    "# Extracción de Datos con Seleniun"
   ]
  },
  {
   "cell_type": "code",
   "execution_count": null,
   "id": "baa7bf98-e189-4210-b0db-e5f8a1066e32",
   "metadata": {},
   "outputs": [],
   "source": [
    "## 1. Importamos Librerias\n",
    "import os\n",
    "import time\n",
    "from selenium import webdriver\n",
    "from selenium.webdriver.common.keys import Keys\n",
    "from selenium.webdriver.support.ui import WebDriverWait\n",
    "from selenium.webdriver.support import expected_conditions as EC\n",
    "import pandas as pd\n",
    "import time\n",
    "from datetime import datetime\n",
    "from selenium.webdriver.chrome.service import Service\n",
    "from selenium.webdriver.common.by import By\n",
    "from selenium import webdriver\n",
    "from selenium.webdriver.chrome.options import Options\n",
    "from urllib.parse import urljoin\n",
    "import xlsxwriter"
   ]
  },
  {
   "cell_type": "code",
   "execution_count": 9,
   "id": "2bf8f0ed-d5b9-4730-b64a-b0f527c1f101",
   "metadata": {},
   "outputs": [],
   "source": [
    "## 2. Abrimos el navegador\n",
    "import chromedriver_autoinstaller as chromedriver\n",
    "chromedriver.install()\n",
    "driver = webdriver.Chrome()"
   ]
  },
  {
   "cell_type": "code",
   "execution_count": 19,
   "id": "9afa3472-fc63-43be-808b-73ce4d3ad0c0",
   "metadata": {},
   "outputs": [],
   "source": [
    "## 3. Definimos segmentadores de notas periodisticas\n",
    "# (para identificar luego cada nota según palabras claves)\n",
    "internacionales=[\"trump\",\"putin\",\"xi pi\", \"lula\", \"macron\", \"onu\",\"guerra comercial\",\"crisis internacional\",\"netanyahu\", \"embajador\",\"embajadora\", \"canciller\"]\n",
    "economia_macro=[\"inflación\", \"inflacion\",\"dólar\", \"dolar\", \"U$S\", \"salario\", \"salarios\", \"jubilación\", \"jubilacion\", \"jubilaciones\", \"poder adquisitivo\", \n",
    "                \"consumo\", \"deuda\", \"inversión\", \"inversion\",\"impuestos\", \"fmi\",\"tasa de interes\", \"tasa de interés\",\"fiscal\", \"afip\", \"arca\",\"aranceles\",\n",
    "               \"retenciones\"]\n",
    "\n",
    "economia_produccion=[\"agro\", \"agropecuario\",\"ganaderia\",\"caprino\", \"caprina\", \"agrtech\", \"vinos\", \"vitivinícola\", \"vitivinicultura\", \"agroindustria\", \n",
    "                    \"petroleo\",\"petrolero\",\"petroleros\",\"petrolera\", \"petroleras\", \"minas\", \"mineria\", \"litio\", \"cobre\", \"minería\", \"construcción\",\n",
    "                    \"construcción\", \"energía\", \"tarifas\", \"tarifa\", \"gas\",\"vivienda\",\"viviendas\",\"comercio\", \"comercios\",\"fem\", \"uia\",\"uim\",\"fecovita\", \n",
    "                     \"coviar\",\"coprosamen\",\"clsuter ganadero\"]\n",
    "salud=[\"hospital\",\"médicos\", \"medico\",\"salud\", \"vacunas\", \"discapacidad\", \"consumo problematico\", \"adicción\", \"adiccion\", \"adicciones\", \"notti\"]\n",
    "educacion=[\"escuela\", \"estudiantes\", \"estudiante\", \"profesor\", \"profesora\", \"profesoras\", \"profesores\", \"universidades\", \"universidad\", \"jardín maternal\",\n",
    "            \"jardin maternal\", \"unversitario\", \"universitarios\", \"decano\", \"rector\"]\n",
    "judiciales=[\"jueza\",\"juez\",\"justicia\",\"el fiscal\", \"la fiscal\",\"denuncia\",\"denuncian\", \"imputado\", \"imputados\", \"imputación\", \"condena\", \"condenana\", \"mato\", \"mató\",\n",
    "           \"asesino\", \"asesina\", \"femicidio\", \"homicidio\", \"asesinato\", \"robo\",\"robó\",\"robaron\",\"procesal\", \"suprema corte\", \"corte suprema\", \"juzgado\", \n",
    "            \"masacre\", \"imputacion\", \"la corte\"]\n",
    "politica=[\"milei\",\"macri\",\"bulrrich\",\"petri\",\"cornejo\",\"cobos\",\"ucr\",\"lla\",\"libertad avanza\",\"kicillof\",\"cristina\",\"cfk\",\"kirchner\",\"justicialista\",\"pj\",\n",
    "         \"sagasti\",\"senadora\",\"senadoras\",\"senador\",\"senadores\",\"gobernador\",\"gobernadora\",\"diputado\",\"diputados\",\"diputada\", \"diputadas\",\"gobernadores\", \n",
    "          \"casa rosada\", \"ley\", \"decreto\", \"massa\"]\n",
    "ambiente=[\"agua\", \"ambiente\",\"cambio climático\", \"contaminación\", \"ambiental\", \"contaminacion\", \"ambientalistas\",\"sustentable\",\"sustentables\", \n",
    "          \"residuos urbanos\"]\n",
    "temas=[politica,internacionales,economia_macro,economia_produccion,salud,educacion,judiciales,ambiente]\n",
    "nombre_temas=[\"politica\",\"internacionales\",\"economia_macro\", \"economia_prod\",\"salud\",\"educacion\",\"judiciales\",\"ambiente\"]"
   ]
  },
  {
   "cell_type": "markdown",
   "id": "42d36bd4-36bd-4313-9040-2b072b60fa58",
   "metadata": {},
   "source": [
    "## A. Diario: MDZOL"
   ]
  },
  {
   "cell_type": "code",
   "execution_count": 56,
   "id": "9617b4c6-3756-42e9-9ed7-0fbfa4b2b4c9",
   "metadata": {},
   "outputs": [
    {
     "name": "stdout",
     "output_type": "stream",
     "text": [
      "(116, 5)                        fecha diario  \\\n",
      "0 2025-07-30 14:25:05.252770  mdzol   \n",
      "1 2025-07-30 14:25:05.252770  mdzol   \n",
      "2 2025-07-30 14:25:05.252770  mdzol   \n",
      "3 2025-07-30 14:25:05.252770  mdzol   \n",
      "4 2025-07-30 14:25:05.252770  mdzol   \n",
      "\n",
      "                                              titulo  \\\n",
      "0  Tras el terremoto en Rusia, emitieron un alert...   \n",
      "1  Uno de los hijos de la Locomotora Oliveras ful...   \n",
      "2  Russo apartó del plantel a Rojo, Saracchi y Le...   \n",
      "3  Se supo quién era la nena que murió con la nie...   \n",
      "4  Un grupo de gobernadores evalúa sellar un fren...   \n",
      "\n",
      "                                                link categorias  \n",
      "0  https://www.mdzol.com/mundo/tras-el-terremoto-...      otros  \n",
      "1  https://www.mdzol.com/sociedad/uno-los-hijos-l...      otros  \n",
      "2  https://www.mdzol.com/deportes/tras-la-pelea-r...      otros  \n",
      "3  https://www.mdzol.com/sociedad/se-supo-quien-e...      otros  \n",
      "4  https://www.mdzol.com/politica/un-grupo-gobern...   politica  \n"
     ]
    }
   ],
   "source": [
    "df_mdz=datos_mdz()\n",
    "df_mdz_class=clasificar_notas(df_mdz,\"mdzol\")\n",
    "print(df_mdz_class.shape, df_mdz_class.head(5))\n",
    "df_mdz_class.to_excel(\"notas_mdz.xlsx\")"
   ]
  },
  {
   "cell_type": "markdown",
   "id": "aa06983d-dbcd-48aa-a190-5341dd6b6c2d",
   "metadata": {},
   "source": [
    "## B. Diario: CLARIN"
   ]
  },
  {
   "cell_type": "code",
   "execution_count": 75,
   "id": "91deeca2-60e9-4dd2-8a19-7a5c8654b656",
   "metadata": {},
   "outputs": [
    {
     "name": "stdout",
     "output_type": "stream",
     "text": [
      "(1, 5)                        fecha diario  \\\n",
      "0 2025-07-30 14:25:05.252770  mdzol   \n",
      "1 2025-07-30 14:25:05.252770  mdzol   \n",
      "2 2025-07-30 14:25:05.252770  mdzol   \n",
      "3 2025-07-30 14:25:05.252770  mdzol   \n",
      "4 2025-07-30 14:25:05.252770  mdzol   \n",
      "\n",
      "                                              titulo  \\\n",
      "0  Tras el terremoto en Rusia, emitieron un alert...   \n",
      "1  Uno de los hijos de la Locomotora Oliveras ful...   \n",
      "2  Russo apartó del plantel a Rojo, Saracchi y Le...   \n",
      "3  Se supo quién era la nena que murió con la nie...   \n",
      "4  Un grupo de gobernadores evalúa sellar un fren...   \n",
      "\n",
      "                                                link categorias  \n",
      "0  https://www.mdzol.com/mundo/tras-el-terremoto-...      otros  \n",
      "1  https://www.mdzol.com/sociedad/uno-los-hijos-l...      otros  \n",
      "2  https://www.mdzol.com/deportes/tras-la-pelea-r...      otros  \n",
      "3  https://www.mdzol.com/sociedad/se-supo-quien-e...      otros  \n",
      "4  https://www.mdzol.com/politica/un-grupo-gobern...   politica  \n"
     ]
    }
   ],
   "source": [
    "df_clarin=datos_clarin()\n",
    "df_clarin_class=clasificar_notas(df_clarin,\"Clarin\")\n",
    "print(df_clarin_class.shape, df_mdz_class.head(5))\n",
    "df_clarin_class.to_excel(\"notas_clarin.xlsx\")"
   ]
  },
  {
   "cell_type": "markdown",
   "id": "ba8a1db3-5083-4900-947c-d206454718f4",
   "metadata": {},
   "source": [
    "## C. Diario: \"MENDOZA POST\""
   ]
  },
  {
   "cell_type": "code",
   "execution_count": 60,
   "id": "ca0abd4a-3e3c-4852-b5f2-c959b8750919",
   "metadata": {},
   "outputs": [
    {
     "name": "stdout",
     "output_type": "stream",
     "text": [
      "(64, 5)                        fecha        diario        titulo  \\\n",
      "0 2025-07-30 14:29:02.434157  Mendoza Post  Mendoza Post   \n",
      "1 2025-07-30 14:29:02.434157  Mendoza Post                 \n",
      "2 2025-07-30 14:29:02.434157  Mendoza Post                 \n",
      "3 2025-07-30 14:29:02.434157  Mendoza Post                 \n",
      "4 2025-07-30 14:29:02.434157  Mendoza Post                 \n",
      "\n",
      "                                   link categorias  \n",
      "0          https://www.mendozapost.com/      otros  \n",
      "1          https://www.mendozapost.com/      otros  \n",
      "2          https://www.mendozapost.com/      otros  \n",
      "3  https://www.facebook.com/MendozaPost      otros  \n",
      "4   https://www.twitter.com/MendozaPost      otros  \n"
     ]
    }
   ],
   "source": [
    "df_mp=datos_mendozapost()\n",
    "df_mp_class=clasificar_notas(df_mp,\"Mendoza Post\")\n",
    "print(df_mp_class.shape, df_mp_class.head(5))\n",
    "df_mp_class.to_excel(\"notas_mendozapost.xlsx\")"
   ]
  },
  {
   "cell_type": "markdown",
   "id": "a8f32eb8-5ae8-4d0c-97e3-dd80a453e9b9",
   "metadata": {},
   "source": [
    "## D. Diario: \"INFOBAE\""
   ]
  },
  {
   "cell_type": "code",
   "execution_count": 62,
   "id": "b2346bf7-9715-489e-b4f4-a7c880d47056",
   "metadata": {
    "scrolled": true
   },
   "outputs": [
    {
     "name": "stdout",
     "output_type": "stream",
     "text": [
      "(129, 5)                        fecha   diario  \\\n",
      "0 2025-07-30 14:31:38.865677  Infobae   \n",
      "1 2025-07-30 14:31:38.865677  Infobae   \n",
      "2 2025-07-30 14:31:38.865677  Infobae   \n",
      "3 2025-07-30 14:31:38.865677  Infobae   \n",
      "4 2025-07-30 14:31:38.865677  Infobae   \n",
      "\n",
      "                                              titulo  \\\n",
      "0  En la Casa Rosada confían en conseguir el apoy...   \n",
      "1  Identificaron a la nena que murió junto a Mila...   \n",
      "2  El Reino Unido denunció que Rusia está detrás ...   \n",
      "3  El ex senador Edgardo Kueider y su secretaria ...   \n",
      "4  Chechu Bonelli y Darío Cvitanich se separaron ...   \n",
      "\n",
      "                                                link          categorias  \n",
      "0  https://www.infobae.com/politica/2025/07/30/en...            politica  \n",
      "1  https://www.infobae.com/sociedad/2025/07/30/id...               otros  \n",
      "2  https://www.infobae.com/america/mundo/2025/07/...               otros  \n",
      "3  https://www.infobae.com/politica/2025/07/30/ed...  politica, ambiente  \n",
      "4  https://www.infobae.com/teleshow/2025/07/30/ch...               otros  \n"
     ]
    }
   ],
   "source": [
    "df_infobae=datos_infobae()\n",
    "df_infobae_class=clasificar_notas(df_infobae,\"Infobae\")\n",
    "print(df_infobae_class.shape, df_infobae_class.head(5))\n",
    "df_infobae_class.to_excel(\"notas_infobae.xlsx\")"
   ]
  },
  {
   "cell_type": "code",
   "execution_count": 79,
   "id": "d63bc69b-dd00-4dfd-9476-74249cc1ae9e",
   "metadata": {},
   "outputs": [],
   "source": [
    "## 4. Concatenamaos informacipon de todos los diarios y exportamos con link de nota\n",
    "df_final = pd.concat([df_mdz_class, df_clarin_class, df_mp_class, df_infobae_class], ignore_index=True)\n",
    "df_final[\"fecha\"] = df_final[\"fecha\"].dt.strftime(\"%d-%m-%Y\")\n",
    "with pd.ExcelWriter(\"notas_final.xlsx\", engine=\"xlsxwriter\") as writer:\n",
    "    df_final.to_excel(writer, index=False, sheet_name=\"Notas\")\n",
    "\n",
    "    # Formato de hipervínculo\n",
    "    workbook  = writer.book\n",
    "    worksheet = writer.sheets[\"Notas\"]\n",
    "    format_link = workbook.add_format({'font_color': 'blue', 'underline': 1})\n",
    "\n",
    "    for i, link in enumerate(df_final[\"link\"]):\n",
    "        worksheet.write_url(i+1, 3, link, format_link, link)  # Columna 1 = 'link'\n"
   ]
  },
  {
   "cell_type": "code",
   "execution_count": null,
   "id": "bfed543f-686a-43ce-a2ab-e3c23e35f7d3",
   "metadata": {},
   "outputs": [],
   "source": []
  },
  {
   "cell_type": "code",
   "execution_count": null,
   "id": "4e75dfe7-78f6-4d0d-8601-d13d625d8146",
   "metadata": {},
   "outputs": [],
   "source": [
    "# FUNCIONES"
   ]
  },
  {
   "cell_type": "code",
   "execution_count": 33,
   "id": "918373e1-0e50-4e05-86a4-3fd7c1449a7b",
   "metadata": {},
   "outputs": [],
   "source": [
    "def datos_mdz():\n",
    "    driver.get('https://www.mdzol.com/')\n",
    "    time.sleep(20)\n",
    "    titulares = WebDriverWait(driver, 10).until(\n",
    "        EC.presence_of_all_elements_located((By.CSS_SELECTOR, \"h2.news-article__title\"))\n",
    "        )\n",
    "    base=[]\n",
    "    for h2 in titulares:\n",
    "        try:\n",
    "            datos=[]\n",
    "            titulo = h2.text\n",
    "            a = h2.find_element(By.XPATH, \"./ancestor::a[1]\")\n",
    "            href = a.get_attribute(\"href\")\n",
    "            datos.append(titulo)\n",
    "            datos.append(href)\n",
    "        except:\n",
    "            pass\n",
    "        base.append(datos)\n",
    "    df = pd.DataFrame(base, columns=[\"titulo\", \"link\"])\n",
    "    return df\n",
    "    "
   ]
  },
  {
   "cell_type": "code",
   "execution_count": 37,
   "id": "982419a6-195d-4e8a-aa84-6fe47c7ef2c8",
   "metadata": {},
   "outputs": [],
   "source": [
    "def datos_clarin():\n",
    "    driver.get('https://www.clarin.com/')\n",
    "    time.sleep(30)\n",
    "    # Buscar todos los <a> que tienen el atributo aria-label\n",
    "    enlaces = driver.find_elements(By.CSS_SELECTOR, \"a[aria-label]\")\n",
    "    \n",
    "    base=[]\n",
    "    for a in enlaces:\n",
    "        try:\n",
    "            titulo = a.get_attribute(\"aria-label\")\n",
    "            href = a.get_attribute(\"href\")\n",
    "            datos=[]\n",
    "            datos.append(titulo)\n",
    "            datos.append(href)\n",
    "        except:\n",
    "            pass\n",
    "    base.append(datos)\n",
    "    df = pd.DataFrame(base, columns=[\"titulo\", \"link\"])\n",
    "    return df"
   ]
  },
  {
   "cell_type": "code",
   "execution_count": 41,
   "id": "141daf54-42d1-4cfb-8c2d-a3eadfeb6e10",
   "metadata": {},
   "outputs": [],
   "source": [
    "def datos_mendozapost():\n",
    "    driver.get('https://www.mendozapost.com/')\n",
    "    time.sleep(30)\n",
    "    \n",
    "    # Obtener todos los <a> que tienen href y title\n",
    "    elementos = driver.find_elements(By.XPATH, \"//a[@href]\")\n",
    "    \n",
    "    # Armar lista de resultados\n",
    "    base_url = \"https://www.mendozapost.com\"\n",
    "    resultados = []\n",
    "    base=[]\n",
    "    for a in elementos:\n",
    "        try:\n",
    "            titulo = a.get_attribute(\"title\").strip()\n",
    "            href_rel = a.get_attribute(\"href\")\n",
    "            href = urljoin(base_url, href_rel)\n",
    "            datos=[]\n",
    "            datos.append(titulo)\n",
    "            datos.append(href)\n",
    "        except:\n",
    "            pass\n",
    "        base.append(datos)\n",
    "    df = pd.DataFrame(base, columns=[\"titulo\", \"link\"])\n",
    "    return df\n",
    "    "
   ]
  },
  {
   "cell_type": "code",
   "execution_count": 39,
   "id": "7b4c1257-b9bb-4574-b008-adfecc82daaf",
   "metadata": {},
   "outputs": [],
   "source": [
    "def datos_infobae():\n",
    "    driver.get('https://www.infobae.com/')\n",
    "    time.sleep(30)\n",
    "    titulares = WebDriverWait(driver, 10).until(\n",
    "        EC.presence_of_all_elements_located((By.CSS_SELECTOR, \"h2.story-card-hl.headline-link\"))\n",
    "    )\n",
    "    base=[]\n",
    "    for h2 in titulares:\n",
    "        try:\n",
    "            datos=[]\n",
    "            titulo = h2.text\n",
    "            a = h2.find_element(By.XPATH, \"./ancestor::a[1]\")\n",
    "            href = a.get_attribute(\"href\")\n",
    "            datos.append(titulo)\n",
    "            datos.append(href)\n",
    "        except:\n",
    "            pass\n",
    "        base.append(datos)\n",
    "    df = pd.DataFrame(base, columns=[\"titulo\", \"link\"])\n",
    "    return df"
   ]
  },
  {
   "cell_type": "code",
   "execution_count": 48,
   "id": "2cde77e8-17d9-4ff8-bf74-9cd9520fbc71",
   "metadata": {},
   "outputs": [],
   "source": [
    "def clasificar_notas(df,diario):\n",
    "    df[\"fecha\"] = datetime.now()\n",
    "    df[\"diario\"] = diario\n",
    "    df[\"categorias\"] = \"\"\n",
    "    df = df[[\"fecha\", \"diario\", \"titulo\", \"link\",\"categorias\"]]\n",
    "    for i in range(0,len(df)):\n",
    "        minuscula=df.iloc[i,2].lower()\n",
    "        categorias_encontradas=[]\n",
    "        for j in range(0,len(temas)):\n",
    "            tema=temas[j]\n",
    "            for h in range(0,len(tema)):\n",
    "                if tema[h] in minuscula and nombre_temas[j] not in categorias_encontradas:\n",
    "                    categorias_encontradas.append(nombre_temas[j])\n",
    "        df.iloc[i, df.columns.get_loc(\"categorias\")] = \", \".join(categorias_encontradas)        \n",
    "        if df.loc[i,\"categorias\"]==\"\":\n",
    "            df.loc[i,\"categorias\"]=\"otros\"\n",
    "    df_class=df.copy()\n",
    "    return df_class"
   ]
  },
  {
   "cell_type": "code",
   "execution_count": null,
   "id": "4b9c7c03-7af8-44dd-80d6-e8df260e1c3c",
   "metadata": {},
   "outputs": [],
   "source": []
  }
 ],
 "metadata": {
  "kernelspec": {
   "display_name": "Python 3 (ipykernel)",
   "language": "python",
   "name": "python3"
  },
  "language_info": {
   "codemirror_mode": {
    "name": "ipython",
    "version": 3
   },
   "file_extension": ".py",
   "mimetype": "text/x-python",
   "name": "python",
   "nbconvert_exporter": "python",
   "pygments_lexer": "ipython3",
   "version": "3.12.3"
  }
 },
 "nbformat": 4,
 "nbformat_minor": 5
}
